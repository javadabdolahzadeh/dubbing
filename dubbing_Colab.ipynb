{
 "cells": [
  {
   "cell_type": "code",
   "execution_count": null,
   "metadata": {
    "cellView": "form",
    "id": "LUgwm0rfx0_J"
   },
   "outputs": [],
   "source": [
    "# @title Install requirements\n",
    "%cd /content\n",
    "!git clone https://github.com/javadabdolahzadeh/dubbing.git\n",
    "%cd dubbing\n",
    "\n",
    "!pip uninstall chex pandas-stubs ibis-framework albumentations albucore jax -y -q\n",
    "!pip install uv==0.8.13 -q\n",
    "!uv venv --python 3.10 --clear -q\n",
    "!curl -sS https://bootstrap.pypa.io/get-pip.py -o get-pip.py\n",
    "!uv run python get-pip.py pip==23.1.2 -q\n",
    "# In Colab, this is how you use uv, got it?\n",
    "!uv run python -m pip install -q pip==23.1.2 Setuptools==80.6.0\n",
    "!apt install git-lfs -q\n",
    "!git lfs install\n",
    "\n",
    "!uv run python -m pip install -q torch==2.5.1 torchvision==0.20.1 torchaudio==2.5.1 --index-url https://download.pytorch.org/whl/cu124\n",
    "!sed -i 's|git+https://github.com/R3gm/whisperX.git@cuda_11_8|git+https://github.com/R3gm/whisperX.git@cuda_12_x|' requirements_base.txt\n",
    "!uv run python -m pip install -q -r requirements_base.txt\n",
    "!uv run python -m pip install -q -r requirements_extra.txt\n",
    "!uv run python -m pip install -q onnxruntime-gpu==1.22.0\n",
    "\n",
    "Install_PIPER_TTS = True # @param {type:\"boolean\"}\n",
    "\n",
    "if Install_PIPER_TTS:\n",
    "    !uv run python -m pip install -q piper-tts==1.2.0\n",
    "\n",
    "Install_Coqui_XTTS = True # @param {type:\"boolean\"}\n",
    "\n",
    "if Install_Coqui_XTTS:\n",
    "    !uv run python -m pip install -q -r requirements_xtts.txt\n",
    "    !uv run python -m pip install -q TTS==0.21.1  --no-deps\n",
    "\n",
    "!sudo apt install -y libcudnn8 -q"
   ]
  },
  {
   "cell_type": "code",
   "execution_count": null,
   "metadata": {
    "cellView": "form",
    "id": "XkhXfaFw4R4J"
   },
   "outputs": [],
   "source": [
    "#@markdown # `RUN THE WEB APP`\n",
    "YOUR_HF_TOKEN = \"\" #@param {type:'string'}\n",
    "%env YOUR_HF_TOKEN={YOUR_HF_TOKEN}\n",
    "theme = \"Taithrah/Minimal\" # @param [\"Taithrah/Minimal\", \"aliabid94/new-theme\", \"gstaff/xkcd\", \"ParityError/LimeFace\", \"abidlabs/pakistan\", \"rottenlittlecreature/Moon_Goblin\", \"ysharma/llamas\", \"gradio/dracula_revamped\"]\n",
    "interface_language = \"english\" # @param ['arabic', 'azerbaijani', 'chinese_zh_cn', 'english', 'french', 'german', 'hindi', 'indonesian', 'italian', 'japanese', 'korean', 'marathi', 'polish', 'portuguese', 'russian', 'spanish', 'swedish', 'turkish', 'ukrainian', 'vietnamese']\n",
    "verbosity_level = \"info\" # @param [\"debug\", \"info\", \"warning\", \"error\", \"critical\"]\n",
    "\n",
    "\n",
    "%cd /content/dubbing\n",
    "!uv run python app_rvc.py --theme {theme} --verbosity_level {verbosity_level} --language {interface_language} --public_url"
   ]
  }
 ],
 "metadata": {
  "accelerator": "GPU",
  "colab": {
   "gpuType": "T4",
   "provenance": [],
   "include_colab_link": true
  },
  "kernelspec": {
   "display_name": "Python 3",
   "name": "python3"
  },
  "language_info": {
   "name": "python"
  }
 },
 "nbformat": 4,
 "nbformat_minor": 0
}
